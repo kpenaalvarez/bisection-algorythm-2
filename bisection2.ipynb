{
 "cells": [
  {
   "cell_type": "markdown",
   "id": "78c9cbb3",
   "metadata": {},
   "source": [
    "# bisection in a python notebook"
   ]
  },
  {
   "cell_type": "code",
   "execution_count": 1,
   "id": "bd4709fc",
   "metadata": {},
   "outputs": [],
   "source": [
    "# get the packages\n",
    "import matplotlib.pyplot as plt\n",
    "import numpy as np"
   ]
  },
  {
   "cell_type": "code",
   "execution_count": 3,
   "id": "836c8099",
   "metadata": {},
   "outputs": [
    {
     "name": "stdout",
     "output_type": "stream",
     "text": [
      "f(2) should be -2; we get -2:\n"
     ]
    }
   ],
   "source": [
    "# define the function f(x) = x - x**2\n",
    "def f(x):\n",
    "    return (x - x**2)\n",
    "#test when x=2, we should get -2\n",
    "print(f\"f(2) should be -2; we get {f(2)}:\")"
   ]
  },
  {
   "cell_type": "code",
   "execution_count": 8,
   "id": "bfc9e962",
   "metadata": {},
   "outputs": [
    {
     "name": "stdout",
     "output_type": "stream",
     "text": [
      " f(0.5) = 0.25\n",
      " f(2) = -2\n"
     ]
    }
   ],
   "source": [
    "# use bisection to find x so that f(x) = 0 \n",
    "\n",
    "# try .5 for x\n",
    "print(f' f(0.5) = {f(0.5)}')\n",
    "# top is x= 0.5,\n",
    "#bottom is x= -2\n",
    "print(f' f(2) = {f(2)}')"
   ]
  },
  {
   "cell_type": "code",
   "execution_count": 20,
   "id": "b11ef433",
   "metadata": {
    "scrolled": true
   },
   "outputs": [
    {
     "name": "stdout",
     "output_type": "stream",
     "text": [
      " xTry = 1.25, and f(xTry) = -0.3125\n",
      " xTry = 0.875, and f(xTry) = 0.109375\n",
      " xTry = 1.0625, and f(xTry) = -0.06640625\n",
      " xTry = 0.96875, and f(xTry) = 0.0302734375\n",
      " xTry = 1.015625, and f(xTry) = -0.015869140625\n",
      " xTry = 0.9921875, and f(xTry) = 0.00775146484375\n",
      " xTry = 1.00390625, and f(xTry) = -0.0039215087890625\n",
      " xTry = 0.998046875, and f(xTry) = 0.001949310302734375\n",
      " xTry = 1.0009765625, and f(xTry) = -0.0009775161743164062\n",
      " xTry = 0.99951171875, and f(xTry) = 0.00048804283142089844\n",
      "Final answer = 0.99951171875, and f = 0.00048804283142089844\n"
     ]
    }
   ],
   "source": [
    "# bisection algorythm\n",
    "\n",
    "xHigh = 0.5\n",
    "xLow = 2\n",
    "\n",
    "for i in range(10):\n",
    "    xTry = (xHigh+xLow)/2\n",
    "    if (f(xTry) > 0):\n",
    "        xHigh = xTry\n",
    "    else: \n",
    "        xLow = xTry\n",
    "    print(f\" xTry = {xTry}, and f(xTry) = {f(xTry)}\")\n",
    "print(f\"Final answer = {xTry}, and f = {f(xTry)}\")\n",
    "\n"
   ]
  },
  {
   "cell_type": "code",
   "execution_count": null,
   "id": "723e5bc1",
   "metadata": {},
   "outputs": [],
   "source": []
  }
 ],
 "metadata": {
  "kernelspec": {
   "display_name": "Python 3 (ipykernel)",
   "language": "python",
   "name": "python3"
  },
  "language_info": {
   "codemirror_mode": {
    "name": "ipython",
    "version": 3
   },
   "file_extension": ".py",
   "mimetype": "text/x-python",
   "name": "python",
   "nbconvert_exporter": "python",
   "pygments_lexer": "ipython3",
   "version": "3.10.9"
  }
 },
 "nbformat": 4,
 "nbformat_minor": 5
}
